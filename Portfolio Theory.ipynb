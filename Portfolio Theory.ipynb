{
 "cells": [
  {
   "cell_type": "markdown",
   "id": "aa9c1148",
   "metadata": {},
   "source": [
    "# Portfolio Theory\n",
    "\n"
   ]
  },
  {
   "cell_type": "code",
   "execution_count": 1,
   "id": "91cb765e",
   "metadata": {},
   "outputs": [],
   "source": [
    "import math\n",
    "import random\n",
    "import matplotlib.pyplot as plt\n",
    "import numpy as np"
   ]
  },
  {
   "cell_type": "markdown",
   "id": "b080dbb2",
   "metadata": {},
   "source": [
    "## Expected return and Variance\n",
    "\n",
    "To begin with we will look at the behaviour of a single asset, some stock, over a single time period. We denoted the time period we are interested in as the current time $0$ and some future time $t$ with the price of the asset denoted as $S(0)$ and $S(t)$ respectively. The future price is unkown to us and therefore is represented by a random variable $$S(t):\\Omega\\rightarrow[0,+\\infty),$$ where $\\Omega$ is the sample space of some probability space $(\\Omega,\\mathcal{F},P)$.\n"
   ]
  },
  {
   "cell_type": "markdown",
   "id": "41180025",
   "metadata": {},
   "source": [
    "First lets analyes the case when $\\Omega$ is finite, that is $\\Omega=\\{\\omega_{1},...,\\omega_{N}\\}$,\n",
    "and the price of our asset in scenario $\\omega_{i}$ is denoted as\n",
    "$S(t,\\omega_{i})$. The probability of each scenario will be $P(\\{\\omega_{i}\\})=p_{i}$\n",
    "where $\\sum_{i=1}^{N}p_{i}$. Given the above the expected price of\n",
    "our asset at time $t$ is $$\\mathbb{E}(S(t))=\\sum^N_{i=1}S(t,\\omega_{i})p_{i},$$ and the variance of the price is given by $$\\text{Var}(S(t))=\\sum^N_{i=1}(S(t,\\omega_{i})-\\mathbb{E}(S(t)))^{2}p_{i}.$$"
   ]
  },
  {
   "cell_type": "code",
   "execution_count": 2,
   "id": "d0ff9989",
   "metadata": {},
   "outputs": [],
   "source": [
    "def finite_expected_price(\n",
    "    S_t,\n",
    "    p\n",
    "):\n",
    "    expected_price = 0\n",
    "    for i in range(len(S_t)):\n",
    "        expected_price = expected_price + (S_t[i]*p[i])\n",
    "    return expected_price"
   ]
  },
  {
   "cell_type": "code",
   "execution_count": 18,
   "id": "5be32c10",
   "metadata": {},
   "outputs": [],
   "source": [
    "def finite_variance_price(\n",
    "    S_t,\n",
    "    p\n",
    "):\n",
    "    variance = 0\n",
    "    expected_price=finite_expected_price(S_t, p)\n",
    "    for i in range(len(S_t)):\n",
    "        variance = variance + ((S_t[i])-expected_price)**2*p[i]\n",
    "        \n",
    "        \n",
    "    return variance"
   ]
  },
  {
   "cell_type": "markdown",
   "id": "72d092b3",
   "metadata": {},
   "source": [
    "### Example\n",
    "Assume that $S(0)=100$ and \n",
    "$$\n",
    "S(t)=\\begin{cases}\n",
    "120 & \\text{with probability }\\frac{1}{2},\\\\\n",
    "90 & \\text{with probability }\\frac{1}{2}.\n",
    "\\end{cases}\n",
    "$$\n",
    "The below gives the expected price and variance:"
   ]
  },
  {
   "cell_type": "code",
   "execution_count": 21,
   "id": "290b1792",
   "metadata": {},
   "outputs": [
    {
     "name": "stdout",
     "output_type": "stream",
     "text": [
      "Expected Price:  105.0\n",
      "Variance:  225.0\n",
      "Standard deviation:  15.0\n"
     ]
    }
   ],
   "source": [
    "S_t = np.array([120,90])\n",
    "p = np.array([0.5,0.5])\n",
    "\n",
    "expected_price = finite_expected_price(S_t, p)\n",
    "variance = finite_variance_price(S_t, p)\n",
    "print(\"Expected Price: \", expected_price)\n",
    "print(\"Variance: \", variance)\n",
    "print(\"Standard deviation: \", (variance**0.5))"
   ]
  }
 ],
 "metadata": {
  "kernelspec": {
   "display_name": "Python 3 (ipykernel)",
   "language": "python",
   "name": "python3"
  },
  "language_info": {
   "codemirror_mode": {
    "name": "ipython",
    "version": 3
   },
   "file_extension": ".py",
   "mimetype": "text/x-python",
   "name": "python",
   "nbconvert_exporter": "python",
   "pygments_lexer": "ipython3",
   "version": "3.11.5"
  }
 },
 "nbformat": 4,
 "nbformat_minor": 5
}
